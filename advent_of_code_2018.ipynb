{
 "cells": [
  {
   "cell_type": "markdown",
   "metadata": {},
   "source": [
    "# Advent of Code 2018"
   ]
  },
  {
   "cell_type": "markdown",
   "metadata": {},
   "source": [
    "## Day 1"
   ]
  },
  {
   "cell_type": "code",
   "execution_count": 1,
   "metadata": {
    "scrolled": true
   },
   "outputs": [
    {
     "data": {
      "text/plain": [
       "522"
      ]
     },
     "execution_count": 1,
     "metadata": {},
     "output_type": "execute_result"
    }
   ],
   "source": [
    "import numpy as np\n",
    "f = open('input_day_1')\n",
    "np.array([int(s) for s in f]).sum()"
   ]
  },
  {
   "cell_type": "code",
   "execution_count": 2,
   "metadata": {
    "scrolled": true
   },
   "outputs": [
    {
     "data": {
      "text/plain": [
       "73364"
      ]
     },
     "execution_count": 2,
     "metadata": {},
     "output_type": "execute_result"
    }
   ],
   "source": [
    "x, xs, missing = 0, set(), True\n",
    "while missing:\n",
    "    try:\n",
    "        f = open('input_day_1')\n",
    "        for l in f:\n",
    "            x += int(l)\n",
    "            assert x not in xs\n",
    "            xs.add(x)\n",
    "    except AssertionError:\n",
    "        missing = False\n",
    "x"
   ]
  },
  {
   "cell_type": "markdown",
   "metadata": {},
   "source": [
    "## Day 2"
   ]
  },
  {
   "cell_type": "code",
   "execution_count": 3,
   "metadata": {
    "scrolled": true
   },
   "outputs": [
    {
     "data": {
      "text/plain": [
       "5390"
      ]
     },
     "execution_count": 3,
     "metadata": {},
     "output_type": "execute_result"
    }
   ],
   "source": [
    "f = open('input_day_2')\n",
    "two, three = 0, 0\n",
    "for l in f:\n",
    "    d = dict()\n",
    "    for c in l.strip():\n",
    "        d[c] = 1 + d.get(c, 0)\n",
    "    values = list( d.values() )\n",
    "    if values.count(2):\n",
    "        two += 1\n",
    "    if values.count(3):\n",
    "        three += 1\n",
    "two * three"
   ]
  },
  {
   "cell_type": "code",
   "execution_count": 4,
   "metadata": {
    "scrolled": true
   },
   "outputs": [
    {
     "name": "stdout",
     "output_type": "stream",
     "text": [
      "nvosmkcdtdbfhyxsphzgraljq\n"
     ]
    }
   ],
   "source": [
    "try:\n",
    "    for a in open('input_day_2'):\n",
    "        for b in open('input_day_2'):\n",
    "            count = 0\n",
    "            for ca, cb in zip( a.strip(), b.strip() ):\n",
    "                if ca != cb:\n",
    "                    count += 1\n",
    "            assert count != 1\n",
    "except AssertionError:\n",
    "    print( ''.join([ ca for ca, cb in zip( a.strip(), b.strip() ) if ca == cb ]) )"
   ]
  },
  {
   "cell_type": "markdown",
   "metadata": {},
   "source": [
    "## Day 3"
   ]
  },
  {
   "cell_type": "code",
   "execution_count": 5,
   "metadata": {
    "scrolled": true
   },
   "outputs": [
    {
     "data": {
      "text/plain": [
       "110827"
      ]
     },
     "execution_count": 5,
     "metadata": {},
     "output_type": "execute_result"
    }
   ],
   "source": [
    "claimed = np.full( (1000, 1000), False)\n",
    "overlaps = np.full( (1000, 1000), False)\n",
    "for l in open('input_day_3'):\n",
    "    position, size = ( lambda r: (r[2][:-1].split(','), r[3].split('x')) )( l.split() )\n",
    "    c, r = ( int( s ) for s in position )\n",
    "    for dc in range( int( size[0] ) ):\n",
    "        for dr in range( int( size[1] ) ):\n",
    "            if claimed[c + dc, r + dr]:\n",
    "                overlaps[ c + dc, r + dr ] = True\n",
    "            else:\n",
    "                claimed[c + dc, r + dr] = True\n",
    "overlaps.sum()"
   ]
  },
  {
   "cell_type": "code",
   "execution_count": 6,
   "metadata": {
    "scrolled": true
   },
   "outputs": [
    {
     "name": "stdout",
     "output_type": "stream",
     "text": [
      "#116 @ 864,693: 21x17\n",
      "\n"
     ]
    }
   ],
   "source": [
    "for l in open('input_day_3'):\n",
    "    position, size = ( lambda r: (r[2][:-1].split(','), r[3].split('x')) )( l.split() )\n",
    "    c, r = ( int( s ) for s in position )\n",
    "    overlapped = False\n",
    "    for dc in range( int( size[0] ) ):\n",
    "        for dr in range( int( size[1] ) ):\n",
    "            overlapped = overlapped or overlaps[ c + dc, r + dr ]\n",
    "    if not overlapped:\n",
    "        print(l)"
   ]
  },
  {
   "cell_type": "markdown",
   "metadata": {},
   "source": [
    "## Day 4"
   ]
  },
  {
   "cell_type": "code",
   "execution_count": 7,
   "metadata": {
    "scrolled": true
   },
   "outputs": [
    {
     "data": {
      "text/plain": [
       "84636"
      ]
     },
     "execution_count": 7,
     "metadata": {},
     "output_type": "execute_result"
    }
   ],
   "source": [
    "s = open('input_day_4').read()\n",
    "guards = dict()\n",
    "for guard in set([line.split()[0] for line in s.split('Guard ')[1:]]):\n",
    "    guards[ guard ] = np.full( 60, 0 )\n",
    "ls = s.split('\\n')\n",
    "ls.sort()\n",
    "time = None\n",
    "for l in ls:\n",
    "    if 'Guard' in l:\n",
    "        guard = l.split( 'Guard' )[1].split()[0]\n",
    "        time = None\n",
    "    elif time:\n",
    "        for t in range( time, int( l.split()[ 1 ].split( ':' )[ 1 ][ : -1 ]) ):\n",
    "            guards[ guard ][ t ] = guards[ guard ][ t ] + 1\n",
    "        time = None\n",
    "    elif l:\n",
    "        time = int( l.split()[ 1 ].split( ':' )[ 1 ][ : -1 ] )\n",
    "    \n",
    "cumm = { v.sum(): k for k, v in guards.items() }\n",
    "guard = cumm[ max( list( cumm.keys() ) ) ]\n",
    "guards[ guard ].argmax() * int( guard[ 1 : ] )"
   ]
  },
  {
   "cell_type": "code",
   "execution_count": 8,
   "metadata": {
    "scrolled": true
   },
   "outputs": [
    {
     "data": {
      "text/plain": [
       "91679"
      ]
     },
     "execution_count": 8,
     "metadata": {},
     "output_type": "execute_result"
    }
   ],
   "source": [
    "maxes = { v.max(): k for k, v in guards.items() }\n",
    "guard = maxes[ max( list( maxes.keys() ) ) ]\n",
    "guards[ guard ].argmax() * int( guard[ 1 : ] )"
   ]
  },
  {
   "cell_type": "markdown",
   "metadata": {},
   "source": [
    "## Day 5"
   ]
  },
  {
   "cell_type": "code",
   "execution_count": 9,
   "metadata": {
    "scrolled": true
   },
   "outputs": [
    {
     "data": {
      "text/plain": [
       "10450"
      ]
     },
     "execution_count": 9,
     "metadata": {},
     "output_type": "execute_result"
    }
   ],
   "source": [
    "def squeeze(s):\n",
    "    t = ' '\n",
    "    for c in s:\n",
    "        if c != t[ -1 ] and c.casefold() == t[ -1 ].casefold():\n",
    "            t = t[ : -1 ]\n",
    "        else:\n",
    "            t += c\n",
    "    return t[1:]\n",
    "s = open('input_day_5').read()[ : -1 ]\n",
    "len( squeeze( s ) )"
   ]
  },
  {
   "cell_type": "code",
   "execution_count": 10,
   "metadata": {
    "scrolled": true
   },
   "outputs": [
    {
     "data": {
      "text/plain": [
       "4624"
      ]
     },
     "execution_count": 10,
     "metadata": {},
     "output_type": "execute_result"
    }
   ],
   "source": [
    "lens = dict()\n",
    "for c in range(ord('A'), ord('Z') + 1 ):\n",
    "    lens[ chr(c) ] = len( squeeze( s.replace( chr(c), '' ).replace( chr(c + 32), '' ) ) )\n",
    "min( list( lens.values() ) )"
   ]
  },
  {
   "cell_type": "markdown",
   "metadata": {},
   "source": [
    "## Day 6"
   ]
  },
  {
   "cell_type": "code",
   "execution_count": 11,
   "metadata": {
    "scrolled": true
   },
   "outputs": [],
   "source": [
    "class Point():\n",
    "    def __init__( self, p ):\n",
    "        self.x = p[0]\n",
    "        self.y = p[1]\n",
    "    def distance( self, x, y ):\n",
    "        return abs( x - self.x ) + abs( y - self.y )\n",
    "    def __repr__(self):\n",
    "        return '< {}, {} >'.format( self.x, self.y )\n",
    "\n",
    "class Points(list):\n",
    "    def max( self ):\n",
    "        return Point( ( max( [ p.x for p in self ] ), max( [ p.y for p in self ] ) ) )\n",
    "    def min( self ):\n",
    "        return Point( ( min( [ p.x for p in self ] ), min( [ p.y for p in self ] ) ) )"
   ]
  },
  {
   "cell_type": "code",
   "execution_count": 12,
   "metadata": {
    "scrolled": true
   },
   "outputs": [
    {
     "data": {
      "text/plain": [
       "3871"
      ]
     },
     "execution_count": 12,
     "metadata": {},
     "output_type": "execute_result"
    }
   ],
   "source": [
    "f = open('input_day_6')\n",
    "points = Points(\n",
    "    [\n",
    "        Point( coord ) for coord in (\n",
    "            ( int(v1), int(v2) ) for v1, v2 in [\n",
    "                l.strip().split(',') for l in f\n",
    "            ]\n",
    "        )\n",
    "    ]\n",
    ")\n",
    "p_max = points.max()\n",
    "p_min = points.min()\n",
    "grid = np.full( ( p_max.x + 1, p_max.y + 1 ) , None )\n",
    "for x in range( p_min.x, p_max.x + 1 ):\n",
    "    for y in range( p_min.y, p_max.y + 1 ):\n",
    "        d = { p : p.distance( x, y ) for p in points }\n",
    "        values = list( d.values() )\n",
    "        vmin = min( values )\n",
    "        if values.count( vmin ) == 1:\n",
    "            grid[x, y] = list( d.keys() )[ values.index( vmin ) ]\n",
    "candidates = set(points) - (\n",
    "    set(grid[p_min.x, :])\n",
    "    | set(grid[p_max.x, :])\n",
    "    | set(grid[:, p_min.y])\n",
    "    | set(grid[:, p_max.y])\n",
    "    | set([None])\n",
    ")\n",
    "max( [ (grid == k).sum() for k in candidates ] )"
   ]
  },
  {
   "cell_type": "code",
   "execution_count": 13,
   "metadata": {
    "scrolled": true
   },
   "outputs": [
    {
     "data": {
      "text/plain": [
       "44667"
      ]
     },
     "execution_count": 13,
     "metadata": {},
     "output_type": "execute_result"
    }
   ],
   "source": [
    "grid = np.full( ( p_max.x + 1, p_max.y + 1 ) , None )\n",
    "for x in range( p_min.x, p_max.x + 1 ):\n",
    "    for y in range( p_min.y, p_max.y + 1 ):\n",
    "        grid[x, y] = sum( [ p.distance( x, y ) for p in points ] )\n",
    "( grid[p_min.x:, p_min.y:] < 10000 ).sum()"
   ]
  },
  {
   "cell_type": "markdown",
   "metadata": {},
   "source": [
    "## Day 7"
   ]
  },
  {
   "cell_type": "code",
   "execution_count": 14,
   "metadata": {
    "scrolled": true
   },
   "outputs": [
    {
     "data": {
      "text/plain": [
       "'ACBDESULXKYZIMNTFGWJVPOHRQ'"
      ]
     },
     "execution_count": 14,
     "metadata": {},
     "output_type": "execute_result"
    }
   ],
   "source": [
    "from collections import defaultdict\n",
    "before = defaultdict( set )\n",
    "after = defaultdict( set )\n",
    "for l in open('input_day_7'):\n",
    "    temp = l.split()\n",
    "    before[ temp[1] ].add( temp[7] )\n",
    "    after[ temp[7] ].add( temp[1] )\n",
    "order = list()\n",
    "def traverse( avail ):\n",
    "    if avail:\n",
    "        for c in sorted( avail ):\n",
    "            if after[ c ].issubset( set( order ) ):\n",
    "                break\n",
    "        order.append( c )\n",
    "        avail |= before[ c ]\n",
    "        traverse( avail  - set( order ) )\n",
    "traverse( set( before.keys() ) - set( after.keys() ) )\n",
    "''.join( order )"
   ]
  },
  {
   "cell_type": "code",
   "execution_count": 15,
   "metadata": {
    "scrolled": true
   },
   "outputs": [
    {
     "data": {
      "text/plain": [
       "980"
      ]
     },
     "execution_count": 15,
     "metadata": {},
     "output_type": "execute_result"
    }
   ],
   "source": [
    "from collections import defaultdict\n",
    "before = defaultdict( set )\n",
    "after = defaultdict( set )\n",
    "for l in open('input_day_7'):\n",
    "    temp = l.split()\n",
    "    before[ temp[1] ].add( temp[7] )\n",
    "    after[ temp[7] ].add( temp[1] )\n",
    "order = list()\n",
    "workers, max_workers, delay = dict(), 5, 60\n",
    "def traverse( avail, seconds = 0 ):\n",
    "    seconds += 1\n",
    "    for c in sorted( avail ):\n",
    "        if len( workers ) >= max_workers:\n",
    "            break\n",
    "        if after[ c ].issubset( set( order ) ):\n",
    "            workers[ c ] = ord( c ) - ord( 'A' ) + 1 + delay\n",
    "    done = list()\n",
    "    for w in workers:\n",
    "        workers[ w ] = workers[ w ] - 1\n",
    "        if not workers[ w ]:\n",
    "            done.append( w ) # in theory, many workers can be done simultaneously\n",
    "    for w in done:\n",
    "        order.append( w )\n",
    "        avail |= before[ w ]\n",
    "        del workers[ w ]\n",
    "    if avail or workers:\n",
    "        seconds = traverse( avail  - set( order ) - set( workers ), seconds )\n",
    "    return seconds\n",
    "traverse( set( before.keys() ) - set( after.keys() ) )"
   ]
  },
  {
   "cell_type": "markdown",
   "metadata": {},
   "source": [
    "## Day 8"
   ]
  },
  {
   "cell_type": "code",
   "execution_count": 16,
   "metadata": {
    "scrolled": true
   },
   "outputs": [
    {
     "data": {
      "text/plain": [
       "46962"
      ]
     },
     "execution_count": 16,
     "metadata": {},
     "output_type": "execute_result"
    }
   ],
   "source": [
    "vals = ( int( s ) for s in open('input_day_8').read().split() )\n",
    "nodes, cumm = [ ( 1, 0, 0 ) ], 0\n",
    "while True:\n",
    "    children, metas, visited = nodes.pop()\n",
    "    if children == visited:\n",
    "        for _ in range( metas ):\n",
    "            cumm += next( vals )\n",
    "        try:\n",
    "            children, metas, visited = nodes.pop()\n",
    "        except IndexError:\n",
    "            break\n",
    "    if children > visited:\n",
    "        nodes.append( ( children, metas, visited + 1 ) )\n",
    "        nodes.append( ( next( vals ), next( vals ), 0 ) )\n",
    "    else:\n",
    "        nodes.append( ( children, metas, visited ) )\n",
    "cumm"
   ]
  },
  {
   "cell_type": "code",
   "execution_count": 17,
   "metadata": {
    "scrolled": true
   },
   "outputs": [
    {
     "data": {
      "text/plain": [
       "22633"
      ]
     },
     "execution_count": 17,
     "metadata": {},
     "output_type": "execute_result"
    }
   ],
   "source": [
    "vals = ( int( s ) for s in open('input_day_8').read().split() )\n",
    "nodes, cumms = [ ( 1, 1, 0 ) ], list()\n",
    "while True:\n",
    "    children, metas, visited = nodes.pop()\n",
    "    if children == visited:\n",
    "        values = [ cumms.pop() for _ in range( children ) ][::-1]\n",
    "        try:\n",
    "            hold = [ next( vals ) for _ in range( metas ) ]\n",
    "        except StopIteration:\n",
    "            break\n",
    "        cumms.append(\n",
    "            sum( values[ i - 1 ] for i in hold if 0 < i and i <= children ) if values else sum( hold )\n",
    "        )\n",
    "        children, metas, visited = nodes.pop()\n",
    "    if children > visited:\n",
    "        nodes.append( ( children, metas, visited + 1 ) )\n",
    "        nodes.append( ( next( vals ), next( vals ), 0 ) )\n",
    "    else:\n",
    "        nodes.append( ( children, metas, visited ) )\n",
    "values[0]"
   ]
  },
  {
   "cell_type": "markdown",
   "metadata": {},
   "source": [
    "## Day 9"
   ]
  },
  {
   "cell_type": "code",
   "execution_count": 18,
   "metadata": {
    "scrolled": true
   },
   "outputs": [
    {
     "name": "stdout",
     "output_type": "stream",
     "text": [
      "9 players; last marble is worth 25 points: high score is 32\n",
      "10 players; last marble is worth 1618 points: high score is 8317\n",
      "13 players; last marble is worth 7999 points: high score is 146373\n",
      "17 players; last marble is worth 1104 points: high score is 2764\n",
      "21 players; last marble is worth 6111 points: high score is 54718\n",
      "30 players; last marble is worth 5807 points: high score is 37305\n",
      "465 players; last marble is worth 71940 points: high score is 384475\n"
     ]
    }
   ],
   "source": [
    "from collections import deque\n",
    "for players, last in zip(\n",
    "    [ 9, 10, 13, 17, 21, 30, 465 ],\n",
    "    [ 25, 1618, 7999, 1104, 6111, 5807, 71940 ]\n",
    "):\n",
    "    idx = 1\n",
    "    circle = deque( [ 0 ] )\n",
    "    scores = players * [ 0 ]\n",
    "    for marble in range( 1, last + 1 ):\n",
    "        if marble % 23:\n",
    "            idx = ( idx + 2 ) % len( circle )\n",
    "            circle.insert( idx , marble )\n",
    "        else:\n",
    "            idx = ( idx - 7 ) % len( circle )\n",
    "            scores[ marble % players ] += circle[ idx ] + marble\n",
    "            circle.remove( circle[ idx ] )\n",
    "            idx = idx % len( circle )\n",
    "    print(\n",
    "        '{} players; last marble is worth {} points: high score is {}'.format(\n",
    "            players, last, max( scores ) \n",
    "        )\n",
    "    )"
   ]
  },
  {
   "cell_type": "code",
   "execution_count": 19,
   "metadata": {
    "scrolled": true
   },
   "outputs": [
    {
     "name": "stdout",
     "output_type": "stream",
     "text": [
      "9 players; last marble is worth 25 points: high score is 32\n",
      "10 players; last marble is worth 1618 points: high score is 8317\n",
      "13 players; last marble is worth 7999 points: high score is 146373\n",
      "17 players; last marble is worth 1104 points: high score is 2764\n",
      "21 players; last marble is worth 6111 points: high score is 54718\n",
      "30 players; last marble is worth 5807 points: high score is 37305\n",
      "465 players; last marble is worth 71940 points: high score is 384475\n",
      "465 players; last marble is worth 7194000 points: high score is 3187566597\n"
     ]
    }
   ],
   "source": [
    "# Was stuck, so I checked reddit:\n",
    "# This function is from https://www.reddit.com/user/marcusandrews\n",
    "# deque().rotate is a huge performance improvement\n",
    "#\n",
    "from collections import deque, defaultdict\n",
    "\n",
    "def play_game(max_players, last_marble):\n",
    "    scores = defaultdict(int)\n",
    "    circle = deque([0])\n",
    "\n",
    "    for marble in range(1, last_marble + 1):\n",
    "        if marble % 23 == 0:\n",
    "            circle.rotate(7)\n",
    "            scores[marble % max_players] += marble + circle.pop()\n",
    "            circle.rotate(-1)\n",
    "        else:\n",
    "            circle.rotate(-1)\n",
    "            circle.append(marble)\n",
    "\n",
    "    return max(scores.values()) if scores else 0\n",
    "\n",
    "for players, last in zip(\n",
    "    [ 9, 10, 13, 17, 21, 30, 465, 465 ],\n",
    "    [ 25, 1618, 7999, 1104, 6111, 5807, 71940, 7194000 ]\n",
    "):\n",
    "    print(\n",
    "        '{} players; last marble is worth {} points: high score is {}'.format(\n",
    "            players, last, play_game( players, last ) \n",
    "        )\n",
    "    )"
   ]
  },
  {
   "cell_type": "markdown",
   "metadata": {},
   "source": [
    "## Day 10"
   ]
  },
  {
   "cell_type": "code",
   "execution_count": 22,
   "metadata": {
    "scrolled": true
   },
   "outputs": [
    {
     "name": "stdout",
     "output_type": "stream",
     "text": [
      "Image at 10558 seconds\n"
     ]
    },
    {
     "data": {
      "image/png": "[encoded data removed]",
      "text/plain": [
       "<Figure size 432x288 with 1 Axes>"
      ]
     },
     "metadata": {},
     "output_type": "display_data"
    }
   ],
   "source": [
    "import matplotlib.pyplot as plt\n",
    "import numpy as np\n",
    "\n",
    "s = open('input_day_10').read().split('\\n')\n",
    "position = np.array( \n",
    "    [ \n",
    "        [ int( i ) for i in l.lstrip( 'position=<' ).split( '> velocity=<')[0].split(',') ]\n",
    "        for l in s if l\n",
    "    ]\n",
    ")\n",
    "velocity = np.array(\n",
    "    [\n",
    "        [ int( i ) for i in l.rstrip( '>' ).split( '> velocity=<')[1].split(',') ]\n",
    "        for l in s if l\n",
    "    ]\n",
    ")\n",
    "def get_extremes( arr ):\n",
    "    return np.array( [\n",
    "        [ arr[:,0].min(), arr[:,1].min() ],\n",
    "        [ arr[:,0].max(), arr[:,1].max() ]\n",
    "    ] )\n",
    "def get_size( arr ):\n",
    "    return ( lambda a: ( a[ 1 ] - a [ 0 ] ).max() )( get_extremes( arr ) )\n",
    "result, i = position, 0\n",
    "while  get_size( position + ( i + 1 ) * velocity ) < get_size( result ):\n",
    "    i += 1\n",
    "    result = position + i * velocity\n",
    "extremes = get_extremes( result )\n",
    "grid = np.full( extremes[1] - extremes[0] + 1, True, dtype=bool )\n",
    "grid[ result[ :, 0 ] - extremes[0, 0], result[ :, 1 ] - extremes[0, 1] ] = False\n",
    "print( 'Image at {} seconds'.format( i ))\n",
    "plt.imshow( grid.T, cmap='hot');"
   ]
  },
  {
   "cell_type": "markdown",
   "metadata": {},
   "source": [
    "## Day 11"
   ]
  },
  {
   "cell_type": "code",
   "execution_count": 23,
   "metadata": {
    "scrolled": true
   },
   "outputs": [
    {
     "data": {
      "text/plain": [
       "(21, 61)"
      ]
     },
     "execution_count": 23,
     "metadata": {},
     "output_type": "execute_result"
    }
   ],
   "source": [
    "def power( x, y, sn = 6042 ):\n",
    "    temp = ( ( x + 10 ) * y + sn ) * ( x + 10 )\n",
    "    return ( int( str( temp )[ -3 ] ) if 99 < temp else 0 ) - 5\n",
    "grid = np.empty( ( 300, 300), dtype = int )\n",
    "for x in range( 300 ):\n",
    "    for y in range( 300 ):\n",
    "        grid[ x, y ] = power( x + 1, y + 1 )\n",
    "square = np.empty( ( 297 , 297 ), dtype = int )\n",
    "for x in range( 297 ):\n",
    "    for y in range( 297 ):\n",
    "        square[ x, y ] = grid[ x : x + 3, y : y + 3 ].sum()\n",
    "tuple( i + 1 for i in np.unravel_index( np.argmax( square, axis=None ), square.shape ) )"
   ]
  },
  {
   "cell_type": "code",
   "execution_count": 24,
   "metadata": {
    "scrolled": true
   },
   "outputs": [
    {
     "name": "stdout",
     "output_type": "stream",
     "text": [
      "(22,107,2): 16\n",
      "(21,61,3): 30\n",
      "(20,273,4): 37\n",
      "(235,255,5): 44\n",
      "(165,103,6): 55\n",
      "(233,253,7): 64\n",
      "(232,253,8): 76\n",
      "(235,254,9): 89\n",
      "(235,253,10): 95\n",
      "(233,252,11): 108\n",
      "(232,251,12): 119\n",
      "(232,250,13): 114\n",
      "(231,249,14): 104\n",
      "(230,250,15): 82\n",
      "(229,253,16): 78\n",
      "(228,252,17): 68\n",
      "(227,251,18): 60\n",
      "(226,250,19): 37\n",
      "(225,251,20): 23\n",
      "(224,250,21): 8\n",
      "(1,280,22): 0\n",
      "(1,279,23): 0\n",
      "(1,278,24): 0\n",
      "(1,277,25): 0\n",
      "(1,276,26): 0\n",
      "(1,275,27): 0\n"
     ]
    },
    {
     "ename": "KeyboardInterrupt",
     "evalue": "",
     "output_type": "error",
     "traceback": [
      "\u001b[0;31m---------------------------------------------------------------------------\u001b[0m",
      "\u001b[0;31mKeyboardInterrupt\u001b[0m                         Traceback (most recent call last)",
      "\u001b[0;32m<ipython-input-24-b1805aa66770>\u001b[0m in \u001b[0;36m<module>\u001b[0;34m()\u001b[0m\n\u001b[1;32m      6\u001b[0m     \u001b[0;32mfor\u001b[0m \u001b[0my\u001b[0m \u001b[0;32min\u001b[0m \u001b[0mrange\u001b[0m\u001b[0;34m(\u001b[0m \u001b[0;36m300\u001b[0m \u001b[0;34m-\u001b[0m \u001b[0mz\u001b[0m \u001b[0;34m)\u001b[0m\u001b[0;34m:\u001b[0m\u001b[0;34m\u001b[0m\u001b[0;34m\u001b[0m\u001b[0m\n\u001b[1;32m      7\u001b[0m         \u001b[0;32mfor\u001b[0m \u001b[0mx\u001b[0m \u001b[0;32min\u001b[0m \u001b[0mrange\u001b[0m\u001b[0;34m(\u001b[0m \u001b[0;36m300\u001b[0m \u001b[0;34m-\u001b[0m \u001b[0mz\u001b[0m \u001b[0;34m)\u001b[0m\u001b[0;34m:\u001b[0m\u001b[0;34m\u001b[0m\u001b[0;34m\u001b[0m\u001b[0m\n\u001b[0;32m----> 8\u001b[0;31m             \u001b[0mcube\u001b[0m\u001b[0;34m[\u001b[0m \u001b[0mx\u001b[0m\u001b[0;34m,\u001b[0m \u001b[0my\u001b[0m\u001b[0;34m,\u001b[0m \u001b[0mz\u001b[0m \u001b[0;34m]\u001b[0m \u001b[0;34m=\u001b[0m \u001b[0mcube\u001b[0m\u001b[0;34m[\u001b[0m \u001b[0mx\u001b[0m \u001b[0;34m:\u001b[0m \u001b[0mx\u001b[0m \u001b[0;34m+\u001b[0m \u001b[0mz\u001b[0m \u001b[0;34m+\u001b[0m \u001b[0;36m1\u001b[0m\u001b[0;34m,\u001b[0m \u001b[0my\u001b[0m \u001b[0;34m:\u001b[0m \u001b[0my\u001b[0m \u001b[0;34m+\u001b[0m \u001b[0mz\u001b[0m \u001b[0;34m+\u001b[0m \u001b[0;36m1\u001b[0m\u001b[0;34m,\u001b[0m \u001b[0;36m0\u001b[0m \u001b[0;34m]\u001b[0m\u001b[0;34m.\u001b[0m\u001b[0msum\u001b[0m\u001b[0;34m(\u001b[0m\u001b[0;34m)\u001b[0m\u001b[0;34m\u001b[0m\u001b[0;34m\u001b[0m\u001b[0m\n\u001b[0m\u001b[1;32m      9\u001b[0m     print(\n\u001b[1;32m     10\u001b[0m         '({},{},{}): {}'.format(\n",
      "\u001b[0;32m~/miniconda3/lib/python3.6/site-packages/numpy/core/_methods.py\u001b[0m in \u001b[0;36m_sum\u001b[0;34m(a, axis, dtype, out, keepdims)\u001b[0m\n\u001b[1;32m     29\u001b[0m     \u001b[0;32mreturn\u001b[0m \u001b[0mumr_minimum\u001b[0m\u001b[0;34m(\u001b[0m\u001b[0ma\u001b[0m\u001b[0;34m,\u001b[0m \u001b[0maxis\u001b[0m\u001b[0;34m,\u001b[0m \u001b[0;32mNone\u001b[0m\u001b[0;34m,\u001b[0m \u001b[0mout\u001b[0m\u001b[0;34m,\u001b[0m \u001b[0mkeepdims\u001b[0m\u001b[0;34m)\u001b[0m\u001b[0;34m\u001b[0m\u001b[0;34m\u001b[0m\u001b[0m\n\u001b[1;32m     30\u001b[0m \u001b[0;34m\u001b[0m\u001b[0m\n\u001b[0;32m---> 31\u001b[0;31m \u001b[0;32mdef\u001b[0m \u001b[0m_sum\u001b[0m\u001b[0;34m(\u001b[0m\u001b[0ma\u001b[0m\u001b[0;34m,\u001b[0m \u001b[0maxis\u001b[0m\u001b[0;34m=\u001b[0m\u001b[0;32mNone\u001b[0m\u001b[0;34m,\u001b[0m \u001b[0mdtype\u001b[0m\u001b[0;34m=\u001b[0m\u001b[0;32mNone\u001b[0m\u001b[0;34m,\u001b[0m \u001b[0mout\u001b[0m\u001b[0;34m=\u001b[0m\u001b[0;32mNone\u001b[0m\u001b[0;34m,\u001b[0m \u001b[0mkeepdims\u001b[0m\u001b[0;34m=\u001b[0m\u001b[0;32mFalse\u001b[0m\u001b[0;34m)\u001b[0m\u001b[0;34m:\u001b[0m\u001b[0;34m\u001b[0m\u001b[0;34m\u001b[0m\u001b[0m\n\u001b[0m\u001b[1;32m     32\u001b[0m     \u001b[0;32mreturn\u001b[0m \u001b[0mumr_sum\u001b[0m\u001b[0;34m(\u001b[0m\u001b[0ma\u001b[0m\u001b[0;34m,\u001b[0m \u001b[0maxis\u001b[0m\u001b[0;34m,\u001b[0m \u001b[0mdtype\u001b[0m\u001b[0;34m,\u001b[0m \u001b[0mout\u001b[0m\u001b[0;34m,\u001b[0m \u001b[0mkeepdims\u001b[0m\u001b[0;34m)\u001b[0m\u001b[0;34m\u001b[0m\u001b[0;34m\u001b[0m\u001b[0m\n\u001b[1;32m     33\u001b[0m \u001b[0;34m\u001b[0m\u001b[0m\n",
      "\u001b[0;31mKeyboardInterrupt\u001b[0m: "
     ]
    }
   ],
   "source": [
    "cube = np.zeros( ( 300, 300, 300), dtype = int )\n",
    "for y in range( 300 ):\n",
    "    for x in range( 300 ):\n",
    "        cube[ x, y, 0 ] = power( x + 1, y + 1 )\n",
    "for z in range( 1, 300 ):\n",
    "    for y in range( 300 - z ):\n",
    "        for x in range( 300 - z ):\n",
    "            cube[ x, y, z ] = cube[ x : x + z + 1, y : y + z + 1, 0 ].sum()\n",
    "    print(\n",
    "        '({},{},{}): {}'.format(\n",
    "            *tuple(\n",
    "                i + 1 for i in np.unravel_index(\n",
    "                    np.argmax( cube[:,:,z], axis=None ),\n",
    "                    cube[:,:,z].shape\n",
    "                )\n",
    "            ),\n",
    "            z + 1,\n",
    "            cube[:,:,z].max(),\n",
    "        )\n",
    "    )"
   ]
  },
  {
   "cell_type": "markdown",
   "metadata": {},
   "source": [
    "## Day 12"
   ]
  },
  {
   "cell_type": "code",
   "execution_count": 25,
   "metadata": {
    "scrolled": true
   },
   "outputs": [
    {
     "data": {
      "text/plain": [
       "2767"
      ]
     },
     "execution_count": 25,
     "metadata": {},
     "output_type": "execute_result"
    }
   ],
   "source": [
    "f = open('input_day_12')\n",
    "state = f.readline().split()[-1]\n",
    "f.readline()\n",
    "maps = { k: v for k, v in [ l.strip().split(' => ') for l in f ] }\n",
    "N = 20\n",
    "offset = 0\n",
    "for i in range( N ):\n",
    "    state = ''.join(\n",
    "        [\n",
    "            maps.setdefault( ( '.....' + state + '.....' )[ i : i + 5 ], '.' )\n",
    "            for i in range( len( state ) + 5 )\n",
    "        ]\n",
    "    )\n",
    "    offset -= 3\n",
    "sum( [ offset + j for j, c in enumerate( state ) if c == '#' ] )"
   ]
  },
  {
   "cell_type": "code",
   "execution_count": 26,
   "metadata": {
    "scrolled": true
   },
   "outputs": [
    {
     "data": {
      "text/plain": [
       "2650000001362"
      ]
     },
     "execution_count": 26,
     "metadata": {},
     "output_type": "execute_result"
    }
   ],
   "source": [
    "f = open('input_day_12')\n",
    "state = f.readline().split()[-1]\n",
    "f.readline()\n",
    "maps = { k: v for k, v in [ l.strip().split(' => ') for l in f ] }\n",
    "N = 50000000000\n",
    "offset = 0\n",
    "old_state = None\n",
    "try:\n",
    "    for i in range( N ):\n",
    "        assert state != old_state\n",
    "        old_state = state\n",
    "        state = ''.join(\n",
    "            [\n",
    "                maps.setdefault( ( '.....' + state + '.....' )[ i : i + 5 ], '.' )\n",
    "                for i in range( len( state ) + 5 )\n",
    "            ]\n",
    "        )\n",
    "        delta = -3 + len( state ) - len( state.lstrip( '.' ) )\n",
    "        offset += delta\n",
    "        state = state.strip( '.' )\n",
    "except AssertionError:\n",
    "    offset += ( N - i ) * delta\n",
    "sum( [ offset + j for j, c in enumerate( state ) if c == '#' ] )"
   ]
  },
  {
   "cell_type": "markdown",
   "metadata": {},
   "source": [
    "## Day 13"
   ]
  },
  {
   "cell_type": "code",
   "execution_count": 27,
   "metadata": {
    "scrolled": true
   },
   "outputs": [],
   "source": [
    "from collections import deque\n",
    "\n",
    "class Cart():\n",
    "    def __init__( self, x, y, c ):\n",
    "        self.x = x\n",
    "        self.y = y\n",
    "        self.c = deque( '<^>v', 4 )\n",
    "        while self.c[ -1 ] != c:\n",
    "            self.c.rotate( 1 )\n",
    "        self.rule = deque( [ -1, 0, 1 ], 3 )\n",
    "    def advance( self ):\n",
    "        if self.c[ -1 ] == '<': self.x -= 1\n",
    "        elif self.c[ -1 ] == '^': self.y -= 1\n",
    "        elif self.c[ -1 ] == '>': self.x += 1\n",
    "        elif self.c[ -1 ] == 'v': self.y += 1\n",
    "    def turn( self, c ):\n",
    "        if c in list( '-|<^>v' ):\n",
    "            pass\n",
    "        elif c == '+':\n",
    "            self.c.rotate( self.rule[ -1] )\n",
    "            self.rule.rotate( 1 )\n",
    "        elif self.c[ -1 ] + c in \"</ ^\\ >/ v\\\\\".split():\n",
    "            self.c.rotate( 1 )\n",
    "        else:\n",
    "            self.c.rotate( -1 )\n",
    "    def __repr__( self ):\n",
    "        return '<< {} {} {} >>'.format( self.x, self.y, self.c[ -1 ] )"
   ]
  },
  {
   "cell_type": "code",
   "execution_count": 28,
   "metadata": {
    "scrolled": true
   },
   "outputs": [
    {
     "name": "stdout",
     "output_type": "stream",
     "text": [
      "<< 79 128 ^ >> << 79 128 v >>\n"
     ]
    }
   ],
   "source": [
    "carts = list()\n",
    "track = open('input_day_13').read().split('\\n')\n",
    "for y, l in enumerate( track ):\n",
    "    for x, c in enumerate( l ):\n",
    "        if c in list( '<^>v' ):\n",
    "            carts.append( Cart( x, y, c ) )\n",
    "try:\n",
    "    while True:\n",
    "        carts = sorted( sorted( carts, key = lambda a: a.x ), key = lambda a: a.y )\n",
    "        for cart in carts:\n",
    "            cart.advance()\n",
    "            cart.turn( track[ cart.y ][ cart.x ])\n",
    "            for c in carts:\n",
    "                assert not ( c != cart and c.x == cart.x and c.y == cart.y )\n",
    "except AssertionError:\n",
    "    print( cart, c )"
   ]
  },
  {
   "cell_type": "code",
   "execution_count": 30,
   "metadata": {
    "scrolled": true
   },
   "outputs": [
    {
     "data": {
      "text/plain": [
       "<< 3 42 v >>"
      ]
     },
     "execution_count": 30,
     "metadata": {},
     "output_type": "execute_result"
    }
   ],
   "source": [
    "carts = list()\n",
    "track = open('input_day_13').read().split('\\n')\n",
    "for y, l in enumerate( track ):\n",
    "    for x, c in enumerate( l ):\n",
    "        if c in list( '<^>v' ):\n",
    "            carts.append( Cart( x, y, c ) )\n",
    "while len( carts ) > 1:\n",
    "    carts = sorted( sorted( carts, key = lambda a: a.x ), key = lambda a: a.y )\n",
    "    crashed = set()\n",
    "    for cart in carts:\n",
    "        if cart not in crashed:\n",
    "            cart.advance()\n",
    "            cart.turn( track[ cart.y ][ cart.x ])\n",
    "            for c in carts:\n",
    "                if c not in crashed and cart not in crashed and c != cart and c.x == cart.x and c.y == cart.y:\n",
    "                    crashed.add( c )\n",
    "                    crashed.add( cart )\n",
    "    for cart in crashed:\n",
    "        carts.remove( cart )\n",
    "carts[ 0 ]"
   ]
  },
  {
   "cell_type": "markdown",
   "metadata": {},
   "source": [
    "## Day 14"
   ]
  },
  {
   "cell_type": "code",
   "execution_count": 31,
   "metadata": {
    "scrolled": true
   },
   "outputs": [
    {
     "name": "stdout",
     "output_type": "stream",
     "text": [
      "1342316410\n"
     ]
    }
   ],
   "source": [
    "from collections import deque\n",
    "\n",
    "q = deque( [ int( c ) for c in '37'] )\n",
    "e1, e2 = 0, 1\n",
    "after = 47801\n",
    "len_q = len( q )\n",
    "while len_q < after + 10:\n",
    "    v1, v2 = q[ e1 ], q[ e2 ]\n",
    "    q.extend( ( lambda x: [ x ] if x < 10 else [ 1, x % 10 ] )( v1 + v2 ) )\n",
    "    len_q = len( q )\n",
    "    e1, e2 = ( e1 + 1 + v1 ) % len_q, ( e2 + 1 + v2 ) % len_q\n",
    "print( ''.join( [ str( q[ after + i ] ) for i in range( 10 ) ] ) )"
   ]
  },
  {
   "cell_type": "code",
   "execution_count": 32,
   "metadata": {
    "scrolled": true
   },
   "outputs": [
    {
     "name": "stdout",
     "output_type": "stream",
     "text": [
      " running 20200000"
     ]
    },
    {
     "data": {
      "text/plain": [
       "20235230"
      ]
     },
     "execution_count": 32,
     "metadata": {},
     "output_type": "execute_result"
    }
   ],
   "source": [
    "from collections import deque\n",
    "\n",
    "q = list( [ int( c ) for c in '37'] )\n",
    "len_q = 2\n",
    "e1, e2 = 0, 1\n",
    "recipies = [ int( c ) for c in list( '047801' ) ]\n",
    "pattern = deque( [ v for v in q ], len( recipies ) )\n",
    "n = 2 - len( recipies )\n",
    "try:\n",
    "    while True:\n",
    "        v1, v2 = q[ e1 ], q[ e2 ]\n",
    "        for v in ( lambda x: [ x ] if x < 10 else [ 1, x % 10 ] )( v1 + v2 ):\n",
    "            q.append( v )\n",
    "            len_q += 1\n",
    "            pattern.append( v )\n",
    "            n += 1\n",
    "            assert False in [ r == p for r, p in zip( pattern, recipies ) ]\n",
    "        e1, e2 = ( e1 + 1 + v1 ) % len_q, ( e2 + 1 + v2 ) % len_q\n",
    "        if not n % 100000: print( '\\r', 'running', n, end='' )\n",
    "except AssertionError:\n",
    "    pass\n",
    "n"
   ]
  },
  {
   "cell_type": "markdown",
   "metadata": {},
   "source": [
    "## Day 15"
   ]
  },
  {
   "cell_type": "markdown",
   "metadata": {},
   "source": [
    "After comparing in detail my intermediate states with those of posted code that yields the \"given Part 2 answer\", I believe my code is correct, and the given answer for my puzzle input may be incorrect."
   ]
  },
  {
   "cell_type": "code",
   "execution_count": 33,
   "metadata": {
    "scrolled": false
   },
   "outputs": [
    {
     "name": "stdout",
     "output_type": "stream",
     "text": [
      "250648\n",
      "183960\n",
      "157410\n",
      "95130\n",
      "11926\n",
      "33535\n",
      "40230\n",
      "47215\n",
      "50048\n",
      "48438\n",
      "53136\n",
      "54120\n",
      "52038\n",
      "51165\n",
      "52374\n",
      "52374\n",
      "45465\n",
      "48951\n",
      "48951\n",
      "48951\n",
      "46728\n",
      "46728\n",
      "42392\n",
      "################################  []\n",
      "#######.......###.#..###########  []\n",
      "#######....#.####...#.##########  []\n",
      "#######....#####......##########  []\n",
      "######......#..#......##########  []\n",
      "#########......#.......#########  []\n",
      "###########............#########  []\n",
      "############.#.........#########  []\n",
      "###########..##.......##.##.####  []\n",
      "########....##....#............#  []\n",
      "#####..##...#......E.EE........#  [197, 83, 170]\n",
      "#####..##...........E.........##  [119]\n",
      "#####..#......#####E...#.......#  [200]\n",
      "#####........#######...........#  []\n",
      "#####.......#########..........#  []\n",
      "#####....E..#########.........##  [164]\n",
      "####........#########.....#...##  []\n",
      "#.##..E.E...#########.....#.#.##  [182, 200]\n",
      "#......E.E..#########.....#.#..#  [152, 47]\n",
      "#...#..##....#######..#####.#..#  []\n",
      "##........#...#####...#####.##.#  []\n",
      "#........#............#####..#.#  []\n",
      "##..#....#........#######..#...#  []\n",
      "#.....##.#........########.....#  []\n",
      "##....##.........##########....#  []\n",
      "###########.....###########....#  []\n",
      "###########.....##########.....#  []\n",
      "###########..#############.....#  []\n",
      "##########..#################..#  []\n",
      "##########.##################..#  []\n",
      "#########..##################.##  []\n",
      "################################  []\n",
      "Elf attack power is 25\n"
     ]
    }
   ],
   "source": [
    "from copy import deepcopy\n",
    "\n",
    "class Cave( list ):\n",
    "    STARTING_HIT_POINTS = 200\n",
    "    ATTACK_POWER = 3\n",
    "    def __init__( self, *args ):\n",
    "        super().__init__( deepcopy( *args ) )\n",
    "        self.hit_points = dict()\n",
    "        for unit in self.get_units():\n",
    "            self.hit_points[ unit ] = Cave.STARTING_HIT_POINTS\n",
    "    def __repr__( self ):\n",
    "        return '\\n'.join(\n",
    "            '{}  {}'.format(\n",
    "                ''.join( l ),\n",
    "                [ self.hit_points[ unit ] for unit in self.get_units() if unit[ 1 ] == i ]\n",
    "            )\n",
    "            for i, l in enumerate( self )\n",
    "        )\n",
    "    def get( self, coord ):\n",
    "        return self[ coord[ 1 ] ][ coord[ 0 ] ]\n",
    "    def put( self, coord, val ):\n",
    "        self[ coord[ 1 ] ][ coord[ 0 ] ] = val\n",
    "    def get_units( self ):\n",
    "        units = list()\n",
    "        for y, l in enumerate( self ):\n",
    "            for x, c in enumerate( l ):\n",
    "                if c in list( 'GE' ):\n",
    "                    units.append( ( x, y ) )\n",
    "        return units\n",
    "    def attack_power( self, unit ):\n",
    "        return Cave.ATTACK_POWER\n",
    "    def combat_ends( self ):\n",
    "        return len( set( [ self.get( unit ) for unit in self.get_units() ] ) ) == 1\n",
    "    @staticmethod\n",
    "    def get_adjacent( unit ):\n",
    "        x0, y0 = unit\n",
    "        return ( (x0, y0-1), (x0-1, y0), (x0+1, y0), (x0, y0+1) )\n",
    "    @staticmethod\n",
    "    def sort_into_reading_order( iterable ):\n",
    "        return sorted(\n",
    "            sorted(\n",
    "                iterable,\n",
    "                key = lambda a: a[ 0 ] ),\n",
    "            key = lambda a: a[ 1 ]\n",
    "        )\n",
    "    def move( self, unit ):\n",
    "        target = self.forward_scan( unit )\n",
    "        if target:\n",
    "            return self.backward_scan( target, unit )\n",
    "    def forward_scan( self, unit ):\n",
    "#         i = 0\n",
    "#         cave = deepcopy( self )\n",
    "        unit_value = self.get( unit )\n",
    "        steps = set( [ unit ] )\n",
    "        explored = set()\n",
    "        targets = set()\n",
    "        while steps:\n",
    "#             i += 1\n",
    "            new_steps = set()\n",
    "            for step in steps:\n",
    "                for coord in self.get_adjacent( step ):\n",
    "                    coord_value = self.get( coord )\n",
    "                    if coord_value == '.' and coord not in explored:\n",
    "                        new_steps.add( coord )\n",
    "#                         cave.put( coord, str( i%10 ) )\n",
    "                    elif coord_value in 'EG' and coord_value != unit_value:\n",
    "                        targets.add( coord )\n",
    "            explored |= steps\n",
    "            steps = new_steps\n",
    "            if targets:\n",
    "#                 print( cave )\n",
    "#                 print()\n",
    "                return self.sort_into_reading_order( targets )[ 0 ]\n",
    "    def backward_scan( self, target, unit ):\n",
    "        if unit in self.get_adjacent( target ):\n",
    "            return\n",
    "#         i = 0\n",
    "#         cave = deepcopy( self )\n",
    "        steps = set( [ target ] )\n",
    "        explored = set()\n",
    "        adjacents = set()\n",
    "        while steps:\n",
    "#             i += 1\n",
    "            new_steps = set()\n",
    "            for step in steps:\n",
    "                for coord in self.get_adjacent( step ):\n",
    "                    if self.get( coord ) == '.' and coord not in explored:\n",
    "                        new_steps.add( coord )\n",
    "#                         cave.put( coord, str( i%10 ) )\n",
    "                    elif coord == unit:\n",
    "                        adjacents.add( step )\n",
    "            explored |= steps\n",
    "            steps = new_steps\n",
    "            if adjacents:\n",
    "#                 print( cave )\n",
    "#                 print()\n",
    "                adjacent = self.sort_into_reading_order( adjacents )[ 0 ]\n",
    "                self.put( adjacent, self.get( unit ) )\n",
    "                self.put( unit, '.' )\n",
    "                self.hit_points[ adjacent ] = self.hit_points[ unit ]\n",
    "                del self.hit_points[ unit ]\n",
    "                return adjacent\n",
    "    def attack( self, unit ):\n",
    "        if not unit:\n",
    "            return\n",
    "        target = None\n",
    "        target_hit_points = Cave.STARTING_HIT_POINTS + 1\n",
    "        target_type = 'G' if self.get( unit ) == 'E' else 'E'\n",
    "        for coord in self.get_adjacent( unit ):\n",
    "            if (\n",
    "                self.get( coord ) == target_type\n",
    "                and\n",
    "                self.hit_points[ coord ] < target_hit_points\n",
    "            ):\n",
    "                target = coord\n",
    "                target_hit_points = self.hit_points[ target ]\n",
    "        if target:\n",
    "            if self.hit_points[ target ] <= self.attack_power( unit ):\n",
    "                del self.hit_points[ target ]\n",
    "                self.put( target, '.' )\n",
    "            else:\n",
    "                self.hit_points[ target ] -= self.attack_power( unit )\n",
    "            return target\n",
    "    def turn( self ):\n",
    "        dirty = set()\n",
    "        for unit in self.get_units():\n",
    "            assert not self.combat_ends()\n",
    "            if unit not in dirty and unit in self.hit_points and not self.attack( unit ):\n",
    "#                 print( unit )\n",
    "                moved_unit = self.move( unit )\n",
    "                dirty.add( moved_unit )\n",
    "                if moved_unit:\n",
    "                    self.attack( moved_unit )\n",
    "    def play( self ):\n",
    "        i = 0\n",
    "        try:\n",
    "            while True:\n",
    "#                 print( i )\n",
    "#                 print( self )\n",
    "#                 print()\n",
    "                self.turn()\n",
    "                i += 1\n",
    "        except AssertionError:\n",
    "#             print( self )\n",
    "            print( i * sum( self.hit_points.values() ) )\n",
    "            \n",
    "s = [\n",
    "    [ list( l ) for l in \"\"\"#######\n",
    "#.G...#\n",
    "#...EG#\n",
    "#.#.#G#\n",
    "#..G#E#\n",
    "#.....#\n",
    "#######\"\"\".split( '\\n') ],\n",
    "    [ list( l ) for l in \"\"\"#######\n",
    "#E..EG#\n",
    "#.#G.E#\n",
    "#E.##E#\n",
    "#G..#.#\n",
    "#..E#.#\n",
    "#######\"\"\".split( '\\n') ],\n",
    "    [ list( l ) for l in \"\"\"#######\n",
    "#E.G#.#\n",
    "#.#G..#\n",
    "#G.#.G#\n",
    "#G..#.#\n",
    "#...E.#\n",
    "#######\"\"\".split( '\\n') ],\n",
    "    [ list( l ) for l in \"\"\"#######\n",
    "#.E...#\n",
    "#.#..G#\n",
    "#.###.#\n",
    "#E#G#G#\n",
    "#...#G#\n",
    "#######\"\"\".split( '\\n') ],\n",
    "    [ list( l ) for l in \"\"\"#########\n",
    "#G......#\n",
    "#.E.#...#\n",
    "#..##..G#\n",
    "#...##..#\n",
    "#...#...#\n",
    "#.G...G.#\n",
    "#.....G.#\n",
    "#########\"\"\".split( '\\n') ],\n",
    "    [ list( l.strip('\\n') ) for l in open('input_day_15') ]\n",
    "]\n",
    "\n",
    "class Cave2( Cave ):\n",
    "    ELF_ATTACK_POWER = 3\n",
    "    def attack_power( self, unit ):\n",
    "        return self.ELF_ATTACK_POWER if self.get( unit ) == 'E' else Cave2.ATTACK_POWER\n",
    "\n",
    "def save_the_elves( s ):\n",
    "    Cave2.ELF_ATTACK_POWER = 2\n",
    "    dead_elf = True\n",
    "    while dead_elf:\n",
    "        Cave2.ELF_ATTACK_POWER += 1\n",
    "        cave = Cave2( s )\n",
    "        len_elfs = len( [ unit for unit in cave.get_units() if cave.get( unit ) == 'E' ] )\n",
    "        cave.play()\n",
    "        dead_elf = len_elfs != len( [ unit for unit in cave.get_units() if cave.get( unit ) == 'E' ] )\n",
    "    print( cave )\n",
    "    print( 'Elf attack power is {}'.format( Cave2.ELF_ATTACK_POWER ) )\n",
    "\n",
    "for ss in s[-1:]:\n",
    "    save_the_elves( ss )"
   ]
  },
  {
   "cell_type": "markdown",
   "metadata": {},
   "source": [
    "## Day 16"
   ]
  },
  {
   "cell_type": "code",
   "execution_count": 34,
   "metadata": {
    "scrolled": false
   },
   "outputs": [
    {
     "name": "stdout",
     "output_type": "stream",
     "text": [
      "Matches three or more opcodes: 640\n"
     ]
    }
   ],
   "source": [
    "class Computer():\n",
    "    def __init__( self ):\n",
    "        self.R = 4 * [ 0 ]\n",
    "    def addr( self, A, B, C ):\n",
    "        self.R[ C ] = self.R[ A ] + self.R[ B ]\n",
    "    def addi( self, A, B, C ):\n",
    "        self.R[ C ] = self.R[ A ] + B\n",
    "    def mulr( self, A, B, C ):\n",
    "        self.R[ C ] = self.R[ A ] * self.R[ B ]\n",
    "    def muli( self, A, B, C ):\n",
    "        self.R[ C ] = self.R[ A ] * B\n",
    "    def banr( self, A, B, C ):\n",
    "        self.R[ C ] = self.R[ A ] & self.R[ B ]\n",
    "    def bani( self, A, B, C ):\n",
    "        self.R[ C ] = self.R[ A ] & B\n",
    "    def borr( self, A, B, C ):\n",
    "        self.R[ C ] = self.R[ A ] | self.R[ B ]\n",
    "    def bori( self, A, B, C ):\n",
    "        self.R[ C ] = self.R[ A ] | B\n",
    "    def setr( self, A, B, C ):\n",
    "        self.R[ C ] = self.R[ A ]\n",
    "    def seti( self, A, B, C ):\n",
    "        self.R[ C ] = A\n",
    "    def gtir( self, A, B, C ):\n",
    "        self.R[ C ] = 1 if A > self.R[ B ] else 0\n",
    "    def gtri( self, A, B, C ):\n",
    "        self.R[ C ] = 1 if self.R[ A ] > B else 0\n",
    "    def gtrr( self, A, B, C ):\n",
    "        self.R[ C ] = 1 if self.R[ A ] > self.R[ B ] else 0\n",
    "    def eqir( self, A, B, C ):\n",
    "        self.R[ C ] = 1 if A == self.R[ B ] else 0\n",
    "    def eqri( self, A, B, C ):\n",
    "        self.R[ C ] = 1 if self.R[ A ] == B else 0\n",
    "    def eqrr( self, A, B, C ):\n",
    "        self.R[ C ] = 1 if self.R[ A ] == self.R[ B ] else 0\n",
    "\n",
    "computer = Computer()\n",
    "methods = [ a for a in dir(computer) if not a.startswith('__') and a != 'R' ]\n",
    "hits, codes = list(), list()\n",
    "try:\n",
    "    for l in open('input_day_16'):\n",
    "        l = l.rstrip( '\\n' )\n",
    "        if l.startswith( 'Before: '):\n",
    "            stop = False\n",
    "            before = eval( l.lstrip( 'Before: ') )\n",
    "        elif l.startswith( 'After:  '):\n",
    "            hits.append( [ eval( l.lstrip( 'After:  ') ) == v for v in results ] )\n",
    "        elif l:\n",
    "            codes.append( int( l.split()[ 0 ] ) )\n",
    "            results = list()\n",
    "            for m in methods:\n",
    "                computer.R = before.copy()\n",
    "                eval( 'computer.' + m + '( ' + ', '.join( l.split()[1:] ) + ' )' )\n",
    "                results.append( computer.R.copy() )\n",
    "        else:\n",
    "            assert not stop\n",
    "            stop = True\n",
    "except AssertionError:\n",
    "    print( 'Matches three or more opcodes: {}'.format( sum( [ sum( row ) >= 3 for row in hits ] ) ) )\n"
   ]
  },
  {
   "cell_type": "code",
   "execution_count": 35,
   "metadata": {},
   "outputs": [
    {
     "name": "stdout",
     "output_type": "stream",
     "text": [
      "Register 0: 472\n"
     ]
    }
   ],
   "source": [
    "from collections import defaultdict\n",
    "import numpy as np\n",
    "\n",
    "groups = defaultdict( list )\n",
    "for c, h in zip( codes, hits ):\n",
    "    groups[ c ].append( h )\n",
    "for k in groups:\n",
    "    groups[ k ] = np.array( groups[ k ] ).all( 0 )\n",
    "while len( groups ) < sum( [ v.sum() for v in groups.values() ] ):\n",
    "    for k in groups:\n",
    "        if groups[ k ].sum() == 1:\n",
    "            for kk in groups:\n",
    "                if kk != k:\n",
    "                    groups[ kk ] = np.logical_and( groups[ kk ], np.logical_not( groups[ k ] ) )\n",
    "opcodes = { k : methods[ np.argwhere( groups[ k ] )[ 0 ][ 0 ] ] for k in groups }\n",
    "skip = True\n",
    "computer.R = 4*[ 0 ]\n",
    "for l in open('input_day_16'):\n",
    "    if l == '\\n':\n",
    "        skip = False\n",
    "    elif ':' in l:\n",
    "        skip = True\n",
    "    elif l and not skip:\n",
    "        exec(\n",
    "            (\n",
    "                lambda v: 'computer.{}( {}, {}, {} )'.format(\n",
    "                    opcodes[ int( v[ 0 ] ) ], v[ 1 ], v[ 2 ], v[ 3 ]\n",
    "                )\n",
    "            )(\n",
    "                l.split()\n",
    "            )\n",
    "        )\n",
    "print( 'Register 0: {}'.format( computer.R[ 0 ] ) )"
   ]
  },
  {
   "cell_type": "markdown",
   "metadata": {},
   "source": [
    "## Day 17"
   ]
  },
  {
   "cell_type": "code",
   "execution_count": 36,
   "metadata": {},
   "outputs": [
    {
     "name": "stdout",
     "output_type": "stream",
     "text": [
      " Water: total = 38364; at rest = 30551"
     ]
    }
   ],
   "source": [
    "class Ground( list ):\n",
    "    def __init__( self, s ):\n",
    "        super().__init__()\n",
    "        xs, ys = list(), list()\n",
    "        for l in s:\n",
    "            a, b, c = int( l.split( ',' )[0].split( '=' )[-1] ), *[ int( v ) for v in l.split( '=' )[-1].split( '..' ) ]\n",
    "            if l.startswith( 'x' ):\n",
    "                for v in range( b, c + 1 ):\n",
    "                    xs.append( a ), ys.append( v )\n",
    "            else:\n",
    "                for v in range( b, c + 1 ):\n",
    "                    ys.append( a ), xs.append( v )\n",
    "        min_x, max_x, min_y, max_y = min( xs ) - 1, max( xs ) + 1, min( ys ), max( ys )\n",
    "        for y in range( 2 + max_y - min_y ): # added an extra row at the bottom\n",
    "            self.append( ( 1 + max_x - min_x ) * [ '.' ] )\n",
    "        for x, y in zip( xs, ys ):\n",
    "            self[ y - min_y ][ x - min_x ] = '#'\n",
    "        self[ 0 ][ 500 - min_x ] = '|'\n",
    "        self.len_row = len( self[0] )\n",
    "    def __repr__( self ): # removes extra row\n",
    "        n = len( self[0] )\n",
    "        if n < 120:\n",
    "            return '\\n'.join([ ''.join( row ) for row in self[ : -1 ] ] )\n",
    "        l = list()\n",
    "        for i in range( n // 120 ):\n",
    "            l.append( '\\n'.join([ ''.join( row[ i * 120 : ( i + 1 ) * 120 ] ) for row in self[ : -1 ] ] ) )\n",
    "        l.append( '\\n'.join([ ''.join( row[ ( i + 1 ) * 120 : n ] ) for row in self[ : -1 ] ] ) )\n",
    "        return '\\n\\n\\n'.join( l )\n",
    "    def traverse( self ):\n",
    "        start = None\n",
    "        for k, ( above, below ) in enumerate( zip( self[ : -1 ], self[ 1 : ] ) ):\n",
    "            for i in range( self.len_row - 1 ):\n",
    "                a, b, a1, b1 = above[ i ], below[ i ], above[ i + 1 ], below[ i + 1 ]\n",
    "                if a == '|' and b not in '#~|':\n",
    "                    below[ i ] = b = '|'\n",
    "                    self.updated = True\n",
    "                if a == '|' and a1 not in '#|' and b in '~#':\n",
    "                    above[ i + 1 ] = a1 = '|'\n",
    "                    self.updated = True\n",
    "                if a == '#' and a1 == '|':\n",
    "                    start = i + 1\n",
    "                elif start and a == '|' and a1 == '#':\n",
    "                    kk = k\n",
    "                    row = self[ k ]\n",
    "                    while row[ start - 1 ] == '#' and row[ i + 1 ] == '#' and '#' not in row[ start : i + 1 ]:\n",
    "                        assert row[ start - 1 ] == '#' and row[ i + 1 ] == '#' and '#' not in row[ start : i + 1 ]\n",
    "                        for j in range( start, i + 1 ):\n",
    "                            row[ j ] = '~'\n",
    "                        self.updated = True\n",
    "                        k -= 1\n",
    "                        row = self[ k ]\n",
    "                    k = kk\n",
    "                    start = None\n",
    "                elif a1 == '|':\n",
    "                    pass\n",
    "                else:\n",
    "                    start = None\n",
    "                idx = self.len_row - 1 - i\n",
    "                if above[ idx ] == '|' and above[ idx - 1 ] not in '#|' and below[ idx ] in '~#':\n",
    "                    above[ idx - 1 ] = '|'\n",
    "                    self.updated = True\n",
    "            if above[ -1 ] == '|' and below[ -1 ] not in '#~|':\n",
    "                below[ -1 ] = '|'\n",
    "                self.updated = True\n",
    "    def count( self ):\n",
    "        at_rest, flow = 0, 0\n",
    "        for row in self[ : -1]: # remove extra row\n",
    "            at_rest += sum( [ 1 for v in row if v == '~' ] )\n",
    "            flow += sum( [ 1 for v in row if v == '|' ] )\n",
    "        return at_rest + flow, at_rest\n",
    "    def run( self ):\n",
    "        self.updated = True\n",
    "        while( self.updated ):\n",
    "            self.updated = False\n",
    "            self.traverse()\n",
    "            print( '\\r', 'Water: total = {}; at rest = {}'.format( *self.count() ), end='' )\n",
    "        \n",
    "ground = Ground( l.strip('\\n') for l in open('input_day_17') )\n",
    "ground.run()\n",
    "# ground"
   ]
  },
  {
   "cell_type": "markdown",
   "metadata": {},
   "source": [
    "## Day 18"
   ]
  },
  {
   "cell_type": "code",
   "execution_count": 37,
   "metadata": {},
   "outputs": [
    {
     "data": {
      "text/plain": [
       "467819"
      ]
     },
     "execution_count": 37,
     "metadata": {},
     "output_type": "execute_result"
    }
   ],
   "source": [
    "from copy import deepcopy\n",
    "from collections import deque\n",
    "\n",
    "class Lumber():\n",
    "    def __init__( self, s ):\n",
    "        temp = [ [ ' ' ] + list( r ) + [ ' ' ] for r in s ]\n",
    "        self.len_row = len( temp[ 0 ] )\n",
    "        edge = self.len_row * [ ' ' ]\n",
    "        l = list()\n",
    "        l.append( edge )\n",
    "        l.extend( temp )\n",
    "        l.append( edge )\n",
    "        self.trees = [ [ v == '|' for v in r ] for r in l ]\n",
    "        self.yards = [ [ v == '#' for v in r ] for r in l ]\n",
    "        self.fields = [ [ v == '.' for v in r ] for r in l ]\n",
    "        self.n_trees = deque( [], 3 )\n",
    "        self.n_yards = deque( [], 3 )\n",
    "    def traverse( self ):\n",
    "        trees, yards, fields = ( iter( deepcopy( v ) ) for v in ( self.trees, self.yards, self.fields ) )\n",
    "        t_rows, y_rows, f_rows = ( deque( ( next( v ), next( v ) ), 3 ) for v in ( trees, yards, fields ))\n",
    "        for t, y, f in zip( *[ v[ 1 : -1 ] for v in ( self.trees, self.yards, self.fields ) ] ):\n",
    "            for q, v in zip( ( t_rows, y_rows, f_rows ), ( trees, yards, fields ) ):\n",
    "                q.append( next( v ) )\n",
    "            for q in ( self.n_trees, self.n_yards ):\n",
    "                q.clear()\n",
    "            t_iters = [ iter( v ) for v in t_rows ]\n",
    "            y_iters = [ iter( v ) for v in y_rows ]\n",
    "            for _ in range( 2 ):\n",
    "                self.n_trees.append( sum( next( v ) for v in t_iters ) )\n",
    "                self.n_yards.append( sum( next( v ) for v in y_iters ) )\n",
    "            for i in range( 1, self.len_row - 1 ):\n",
    "                self.n_trees.append( sum( next( v ) for v in t_iters ) )\n",
    "                self.n_yards.append( sum( next( v ) for v in y_iters ) )\n",
    "                n_trees = sum( self.n_trees )\n",
    "                n_yards = sum( self.n_yards )\n",
    "                if 3 <= n_trees and f_rows[ 1 ][ i ]:\n",
    "                    f[ i ], t[ i ] = False, True\n",
    "                elif 3 <= n_yards and t_rows[ 1 ][ i ]:\n",
    "                    t[ i ], y[ i ] = False, True\n",
    "                elif ( 1 == n_yards or 0 == n_trees ) and y_rows[ 1 ][ i ]:\n",
    "                    y[ i ], f[ i ] = False, True\n",
    "    def resources( self ):\n",
    "        trees = sum( sum( v for v in row) for row in self.trees )\n",
    "        yards = sum( sum( v for v in row) for row in self.yards )\n",
    "        return trees * yards\n",
    "    def run( self, n = 10 ):\n",
    "        resources = list()\n",
    "        try:\n",
    "            for i in range( n ):\n",
    "                self.traverse()\n",
    "                resources.append( self.resources() )\n",
    "                for j in range( 2, i // 2 ):\n",
    "                    assert resources[ - j : ] != resources[ - 2 * j : - j ]\n",
    "        except AssertionError:\n",
    "            return resources[ - j : ][ ( n - i - 2 ) % j ]\n",
    "        return resources[ - 1 ]\n",
    "\n",
    "lumber = Lumber( l.strip('\\n') for l in open('input_day_18') )\n",
    "lumber.run()"
   ]
  },
  {
   "cell_type": "code",
   "execution_count": 38,
   "metadata": {},
   "outputs": [
    {
     "data": {
      "text/plain": [
       "195305"
      ]
     },
     "execution_count": 38,
     "metadata": {},
     "output_type": "execute_result"
    }
   ],
   "source": [
    "lumber = Lumber( l.strip('\\n') for l in open('input_day_18') )\n",
    "lumber.run( 1000000000 )"
   ]
  },
  {
   "cell_type": "markdown",
   "metadata": {},
   "source": [
    "## Day 19"
   ]
  },
  {
   "cell_type": "code",
   "execution_count": 39,
   "metadata": {
    "scrolled": true
   },
   "outputs": [
    {
     "name": "stdout",
     "output_type": "stream",
     "text": [
      "Program Termination. Register 0 holds the value: 2106\n"
     ]
    }
   ],
   "source": [
    "class FlowControl( Computer ):\n",
    "    def __init__( self, program ):\n",
    "        super().__init__()\n",
    "        self.R = 6 * [ 0 ]\n",
    "        self.ip = int( program[ 0 ].split()[ - 1 ] )\n",
    "        temp = {\n",
    "            'addr' : self.addr,\n",
    "            'addi' : self.addi,\n",
    "            'mulr' : self.mulr,\n",
    "            'muli' : self.muli,\n",
    "            'banr' : self.banr,\n",
    "            'bani' : self.bani,\n",
    "            'borr' : self.borr,\n",
    "            'bori' : self.bori,\n",
    "            'setr' : self.setr,\n",
    "            'seti' : self.seti,\n",
    "            'gtir' : self.gtir,\n",
    "            'gtri' : self.gtri,\n",
    "            'gtrr' : self.gtrr,\n",
    "            'eqir' : self.eqir,\n",
    "            'eqri' : self.eqri,\n",
    "            'eqrr' : self.eqrr\n",
    "        }\n",
    "        self.instructions = [ ( temp[ a ], int( b ), int( c ), int( d ) ) for a, b, c, d in [ l.split() for l in program[ 1 : ] ] ]\n",
    "        self.listing = ( program[ 1 : ] ).copy()\n",
    "    def execute( self ):\n",
    "        ( lambda f, a, b, c: f( a, b, c ) )( *( self.instructions[ self.R[ self.ip ] ] ) )\n",
    "        self.R[ self.ip ] += 1\n",
    "    def run( self ):\n",
    "        try:\n",
    "            while True:\n",
    "                self.execute()\n",
    "        except IndexError:\n",
    "            print( 'Program Termination. Register 0 holds the value: {}'.format( self.R[ 0 ] ) )\n",
    "        \n",
    "fc = FlowControl( [ l.strip('\\n') for l in open('input_day_19') ] )\n",
    "fc.run()"
   ]
  },
  {
   "cell_type": "code",
   "execution_count": 40,
   "metadata": {
    "scrolled": true
   },
   "outputs": [
    {
     "name": "stdout",
     "output_type": "stream",
     "text": [
      "Starting register values: [1, 0, 0, 0, 0, 0]\n",
      "Calculated Termination. Register 0 holds the value: 23021280\n"
     ]
    }
   ],
   "source": [
    "class Simplify( FlowControl ):\n",
    "    def run( self ):\n",
    "        print( 'Starting register values: {}'.format( self.R ))\n",
    "        while self.R[ self.ip ] != 1:\n",
    "            self.execute()\n",
    "        n = self.R[ 2 ]\n",
    "        print(\n",
    "            'Calculated Termination. Register 0 holds the value: {}'.format(\n",
    "                sum( [ i for i in range(1, n + 1 ) if not n % i ] ) \n",
    "            )\n",
    "        )\n",
    "\n",
    "simplify = Simplify( [ l.strip('\\n') for l in open('input_day_19') ] )\n",
    "simplify.R[ 0 ] = 1\n",
    "simplify.run( )"
   ]
  },
  {
   "cell_type": "markdown",
   "metadata": {},
   "source": [
    "## Day 20"
   ]
  },
  {
   "cell_type": "markdown",
   "metadata": {},
   "source": [
    "Here's a clever solution from the reddit forum - a team effort. Quite different than the approach I took which was useless for part two of the puzzle."
   ]
  },
  {
   "cell_type": "code",
   "execution_count": 41,
   "metadata": {},
   "outputs": [
    {
     "name": "stdout",
     "output_type": "stream",
     "text": [
      "4155 8434\n"
     ]
    }
   ],
   "source": [
    "from collections import defaultdict\n",
    "d=defaultdict(lambda:1e9)\n",
    "p=d[0]=0\n",
    "s=[]\n",
    "for c in open( 'input_day_20' ).read().strip( '\\n' )[1:-1]:\n",
    "    if '('==c:\n",
    "        s.append(p)\n",
    "    elif ')'==c:\n",
    "        p=s.pop()\n",
    "    elif '|'==c:\n",
    "        p=s[-1]\n",
    "    else:\n",
    "        l=p;\n",
    "        p += 1j**'ESWN'.index( c );\n",
    "        d[p]=min(d[p],d[l]+1)\n",
    "v=d.values()\n",
    "print(max(v),sum(x>=1e3 for x in v))"
   ]
  },
  {
   "cell_type": "markdown",
   "metadata": {},
   "source": [
    "## Day 21"
   ]
  },
  {
   "cell_type": "code",
   "execution_count": 42,
   "metadata": {},
   "outputs": [
    {
     "name": "stdout",
     "output_type": "stream",
     "text": [
      "For fewest instructions before halt, Register 0: 9107763\n"
     ]
    }
   ],
   "source": [
    "class Halt( FlowControl ):\n",
    "    def run( self ):\n",
    "        while True:\n",
    "            before = self.R.copy()\n",
    "            self.execute()\n",
    "#             print( before, before[ self.ip ], self.listing[ before[ self.ip ] ], self.R )\n",
    "            if before[ self.ip] == 28:\n",
    "                print( 'For fewest instructions before halt, Register 0: {}'.format( self.R[ 3 ] ) )\n",
    "                break\n",
    "\n",
    "halt = Halt( [ l.strip('\\n') for l in open('input_day_21') ] )\n",
    "halt.run()"
   ]
  },
  {
   "cell_type": "code",
   "execution_count": 43,
   "metadata": {
    "scrolled": true
   },
   "outputs": [
    {
     "name": "stdout",
     "output_type": "stream",
     "text": [
      "For fewest instructions before halt, Register 0: 9107763\n",
      "For most instructions before halt, Register 0: 7877093\n"
     ]
    }
   ],
   "source": [
    "import numpy as np\n",
    "from numba import jitclass\n",
    "from numba import int32\n",
    "\n",
    "spec = [\n",
    "    ('r0', int32),\n",
    "    ('r1', int32),\n",
    "    ('r2', int32),\n",
    "    ('r3', int32),\n",
    "    ('r4', int32),\n",
    "    ('r5', int32),\n",
    "]\n",
    "\n",
    "@jitclass(spec)\n",
    "class Transpose():\n",
    "    def __init__( self ):\n",
    "        self.r0 = 0\n",
    "        self.r1 = 0\n",
    "        self.r2 = 0\n",
    "        self.r3 = 0\n",
    "        self.r4 = 0\n",
    "        self.r5 = 0\n",
    "        self.main()\n",
    "    def block_0( self ):\n",
    "        self.r3 = 123\n",
    "    def block_1_2( self ):\n",
    "        self.r3 &= 456\n",
    "        self.r3 = self.r3 == 72\n",
    "    def block_5( self ):\n",
    "        self.r3 = 0\n",
    "    def block_6_7( self ):\n",
    "        self.r4 = self.r3 | 65536\n",
    "        self.r3 = 7041048\n",
    "    def block_8_13( self ):\n",
    "        self.r5 = self.r4 & 255\n",
    "        self.r3 += self.r5\n",
    "        self.r3 &= 16777215\n",
    "        self.r3 *= 65899\n",
    "        self.r3 &= 16777215\n",
    "        self.r5 = 256 > self.r4\n",
    "    def block_17( self ):\n",
    "        self.r5 = 0\n",
    "    def block_18_20( self ):\n",
    "        self.r1 = self.r5 + 1\n",
    "        self.r1 *= 256\n",
    "        self.r1 = self.r1 > self.r4\n",
    "    def block_24( self ):\n",
    "        self.r5 += 1\n",
    "    def block_26( self ):\n",
    "        self.r4 = self.r5\n",
    "    def block_28( self ):\n",
    "        self.r5 = self.r3 == self.r0\n",
    "    def main( self ):\n",
    "        r3 = list()\n",
    "        self.block_0()\n",
    "        self.block_1_2()\n",
    "        while not self.r3:\n",
    "            self.block_1_2()\n",
    "        self.block_5()\n",
    "        while True:\n",
    "            self.block_6_7()\n",
    "            while True:\n",
    "                self.block_8_13()\n",
    "                if self.r5:\n",
    "                    break\n",
    "                self.block_17()\n",
    "                while True:\n",
    "                    self.block_18_20()\n",
    "                    if self.r1:\n",
    "                        break\n",
    "                    self.block_24()\n",
    "                self.block_26()\n",
    "            self.block_28()\n",
    "            if not len( r3 ):\n",
    "                print( 'For fewest instructions before halt, Register 0:', self.r3 )\n",
    "            elif self.r3 in r3:\n",
    "                print( 'For most instructions before halt, Register 0:', r3[ - 1 ] )\n",
    "                break\n",
    "            r3.append( self.r3 )\n",
    "            assert not self.r5\n",
    "Transpose();"
   ]
  },
  {
   "cell_type": "markdown",
   "metadata": {},
   "source": [
    "## Day 22"
   ]
  },
  {
   "cell_type": "markdown",
   "metadata": {},
   "source": [
    "This code is practically certain to be correct, yet my calculated path length is 7 minutes ( one tool change ) lower than the given answer of 1029. See confirming checks in the cell below my answer."
   ]
  },
  {
   "cell_type": "code",
   "execution_count": 44,
   "metadata": {},
   "outputs": [
    {
     "name": "stdout",
     "output_type": "stream",
     "text": [
      "Depth: 8103, Target: (9, 758)\n",
      "Total risk level: 7743\n",
      "Fewest number of minutes to reach target: 1022\n"
     ]
    }
   ],
   "source": [
    "import networkx as nx\n",
    "\n",
    "f = open( 'input_day_22' )\n",
    "depth = int( f.readline().strip('\\n').split()[-1] )\n",
    "target = [ int( v ) for v in f.readline().strip('\\n').split()[-1].split( ',' ) ]\n",
    "\n",
    "class Maze():\n",
    "    def __init__( self, depth, target ):\n",
    "        self.depth = depth\n",
    "        self.target = tuple( target )\n",
    "        self.gi_cache = dict()\n",
    "        self.graph = nx.Graph()\n",
    "        print( 'Depth: {}, Target: {}'.format( self.depth, self.target ) )\n",
    "    def cave_type( self, pos ):\n",
    "        return self.erosion_level( pos ) % 3\n",
    "    def erosion_level( self, pos ):\n",
    "        return ( self.geologic_index( pos ) + self.depth ) % 20183\n",
    "    def geologic_index( self, pos ):\n",
    "        try:\n",
    "            return self.gi_cache[ pos ]\n",
    "        except KeyError:\n",
    "            if pos in [ ( 0, 0 ), self.target ]:\n",
    "                res = 0\n",
    "            elif pos[ 0 ] == 0:\n",
    "                res = 48271 * pos[ 1 ]\n",
    "            elif pos[ 1 ] == 0:\n",
    "                res = 16807 * pos[ 0 ]\n",
    "            else:\n",
    "                x, y = pos\n",
    "                res = self.erosion_level( ( x - 1, y ) ) * self.erosion_level( ( x, y - 1 ) )\n",
    "            self.gi_cache[ pos ] = res\n",
    "            return res\n",
    "    def total_risk( self ):\n",
    "        return sum( [ \n",
    "            self.cave_type( ( x, y ) )\n",
    "            for x in range( self.target[ 0 ] + 1 )\n",
    "            for y in range( self.target[ 1 ] + 1 )\n",
    "        ] )\n",
    "    def build( self, len_x, len_y ):\n",
    "        for pos in ( ( x, y ) for x in range( len_x ) for y in range( len_y ) ):\n",
    "            cave = self.cave_type( pos )\n",
    "            for dx, dy in [ ( 0, 1 ), ( 0, - 1 ), ( 1, 0 ), ( -1, 0 ) ]:\n",
    "                new_pos = ( pos[ 0 ] + dx, pos[ 1 ] + dy )\n",
    "                if new_pos[ 0 ] < 0 or new_pos[ 1 ] < 0:\n",
    "                    continue\n",
    "                new_cave = self.cave_type( new_pos )\n",
    "                for item, new_item in [\n",
    "                    ( item, new_item ) for item in range( 3 ) for new_item in range( 3 )\n",
    "                    if item != cave and new_item != new_cave\n",
    "                ]:\n",
    "                    self.graph.add_edge(\n",
    "                        ( pos, item ),\n",
    "                        ( new_pos, new_item ),\n",
    "                        weight = 1 if item == new_item else 8\n",
    "                    )\n",
    "    def get_distance( self ):\n",
    "        return nx.shortest_path_length( self.graph, ( ( 0 , 0 ), 1 ), ( self.target, 1 ), weight = 'weight' )\n",
    "    def get_path( self ):\n",
    "        return nx.shortest_path( self.graph, ( ( 0 , 0 ), 1 ), ( self.target, 1 ), weight = 'weight' )\n",
    "                \n",
    "maze = Maze( depth, target )\n",
    "print( 'Total risk level: {}'.format( maze.total_risk() ) )\n",
    "maze.build( target[ 0 ] + 100, target[ 1 ] + 100 )\n",
    "print( 'Fewest number of minutes to reach target: {}'.format( maze.get_distance() ) )"
   ]
  },
  {
   "cell_type": "code",
   "execution_count": 45,
   "metadata": {},
   "outputs": [
    {
     "name": "stdout",
     "output_type": "stream",
     "text": [
      "Depth: 510, Target: (10, 10)\n",
      "Total risk level: 114\n",
      "Fewest number of minutes to reach target: 45\n",
      "\n",
      " .=.|=.|.|=.|=|=.\n",
      ".|=|=|||..|.=...\n",
      ".==|....||=..|==\n",
      "=.|....|.==.|==.\n",
      "=|..==...=.|==..\n",
      "=||.=.=||=|=..|=\n",
      "|.=.===|||..=..|\n",
      "|..==||=.|==|===\n",
      ".=..===..=|.|||.\n",
      ".======|||=|=.|=\n",
      ".===|=|===.===||\n",
      "=|||...|==..|=.|\n",
      "=.=|=.=..=.||==|\n",
      "||=|=...|==.=|==\n",
      "|=.=||===.|||===\n",
      "||.|==.|.|.||=||\n"
     ]
    },
    {
     "data": {
      "text/plain": [
       "[((0, 0), 1),\n",
       " ((0, 1), 1),\n",
       " ((0, 2), 1),\n",
       " ((0, 3), 0),\n",
       " ((0, 4), 0),\n",
       " ((0, 5), 0),\n",
       " ((1, 5), 0),\n",
       " ((2, 5), 0),\n",
       " ((2, 6), 0),\n",
       " ((2, 7), 2),\n",
       " ((2, 8), 2),\n",
       " ((2, 9), 2),\n",
       " ((3, 9), 2),\n",
       " ((4, 9), 2),\n",
       " ((5, 9), 2),\n",
       " ((5, 10), 2),\n",
       " ((5, 11), 2),\n",
       " ((5, 12), 2),\n",
       " ((6, 12), 2),\n",
       " ((7, 12), 2),\n",
       " ((8, 12), 2),\n",
       " ((8, 11), 2),\n",
       " ((8, 10), 2),\n",
       " ((9, 10), 2),\n",
       " ((10, 10), 1)]"
      ]
     },
     "execution_count": 45,
     "metadata": {},
     "output_type": "execute_result"
    }
   ],
   "source": [
    "depth = 510\n",
    "target = ( 10 , 10 )\n",
    "maze = Maze( depth, target )\n",
    "print( 'Total risk level: {}'.format( maze.total_risk() ) )\n",
    "maze.build( target[ 0 ] + 10, target[ 1 ] + 10 )\n",
    "print( 'Fewest number of minutes to reach target: {}'.format( maze.get_distance() ) )\n",
    "print( '\\n', '\\n'.join( [ ''.join( [ '.=|'[ maze.cave_type( ( x, y ) ) ] for x in range( target[ 0 ] + 6 ) ] ) for y in range( target[ 1 ] + 6 ) ] ) )\n",
    "maze.get_path()"
   ]
  },
  {
   "cell_type": "markdown",
   "metadata": {},
   "source": [
    "## Day 23"
   ]
  },
  {
   "cell_type": "code",
   "execution_count": 46,
   "metadata": {},
   "outputs": [
    {
     "name": "stdout",
     "output_type": "stream",
     "text": [
      "Number of nanobots in range of the largest signal: 721\n"
     ]
    }
   ],
   "source": [
    "import numpy as np\n",
    "f = open( 'input_day_23' )\n",
    "\n",
    "data = [\n",
    "    ( tuple( int( v ) for v in s1.split( ',' ) ), int( s2 ) )\n",
    "    for s1, s2 in [ l.lstrip( 'pos=<' ).rstrip( '\\n' ).split( '>, r=' ) for l in f ]\n",
    "]\n",
    "loc, r = np.array( [ v[ 0 ] for v in data ] ), np.array( [ v[ 1 ] for v in data ] )\n",
    "center, radius = loc[ r.argmax() ], r.max()\n",
    "print( 'Number of nanobots in range of the largest signal: {}'.format( sum( abs( loc - center ).sum( 1 ) <= radius ) ) )"
   ]
  },
  {
   "cell_type": "code",
   "execution_count": 47,
   "metadata": {},
   "outputs": [
    {
     "name": "stdout",
     "output_type": "stream",
     "text": [
      "Shortest distance to largest number of nanobots: 93130765\n"
     ]
    }
   ],
   "source": [
    "import networkx as nx\n",
    "\n",
    "def teleporter( f, graph = nx.Graph() ):\n",
    "    nanobots = [\n",
    "        ( ( ( tuple( int( v ) for v in s1.split( ',' ) ) ), int( s2 ) ) )\n",
    "        for s1, s2 in [ l.lstrip( 'pos=<' ).rstrip( '\\n' ).split( '>, r=' ) for l in f ]\n",
    "    ]\n",
    "    nanobot = nanobots.pop()\n",
    "    while nanobots:\n",
    "        center, r = nanobot\n",
    "        graph.add_edges_from(\n",
    "            [ ( nanobot, n ) for n in nanobots\n",
    "             if sum( [ abs( c - c1 ) for c, c1 in zip( center, n[ 0 ] ) ] ) <= ( r + n[ 1 ] )\n",
    "            ] )\n",
    "        nanobot = nanobots.pop()\n",
    "    for clique in nx.find_cliques( graph ):\n",
    "        if len( nanobots ) < len( clique ):\n",
    "            nanobots = clique\n",
    "    nanobots.sort( key = lambda n: sum( [ abs( c ) for c in n[ 0 ] ] ) - n[ 1 ], reverse = True )\n",
    "    center, r = nanobots[ 0 ]\n",
    "    assert all( [ abs( c ) <= r for c in center ] ) # assume furthest nanobot of the clique is entirely in one octant\n",
    "    return sum( [ abs( c ) for c in center ] ) - r\n",
    "    \n",
    "print(\n",
    "    'Shortest distance to largest number of nanobots: {}'.format(\n",
    "        teleporter( open( 'input_day_23' ) )\n",
    "    )\n",
    ")"
   ]
  },
  {
   "cell_type": "markdown",
   "metadata": {},
   "source": [
    "## Day 24"
   ]
  },
  {
   "cell_type": "code",
   "execution_count": 48,
   "metadata": {},
   "outputs": [
    {
     "name": "stdout",
     "output_type": "stream",
     "text": [
      "Boost: 0; Winner: Infection with 20150 units.\n",
      "Boost: 1; Winner: Infection with 19353 units.\n",
      "Boost: 2; Winner: Infection with 18715 units.\n",
      "Boost: 3; Winner: Infection with 18440 units.\n",
      "Boost: 4; Winner: Infection with 18143 units.\n",
      "Boost: 5; Winner: Infection with 17712 units.\n",
      "Boost: 6; Winner: Infection with 17499 units.\n",
      "Boost: 7; Winner: Infection with 16414 units.\n",
      "Boost: 8; Winner: Infection with 15643 units.\n",
      "Boost: 9; Winner: Infection with 14891 units.\n",
      "Boost: 10; Winner: Infection with 14191 units.\n",
      "Boost: 11; Winner: Infection with 13550 units.\n",
      "Boost: 12; Winner: Infection with 12837 units.\n",
      "Boost: 13; Winner: Infection with 12079 units.\n",
      "Boost: 14; Winner: Infection with 11041 units.\n",
      "Boost: 15; Winner: Infection with 9406 units.\n",
      "Boost: 16; Stalemate: [3302, 5717]\n",
      "Boost: 17; Stalemate: [3869, 5642]\n",
      "Boost: 18; Stalemate: [4322, 5623]\n",
      "Boost: 19; Stalemate: [4699, 5589]\n",
      "Boost: 20; Stalemate: [4844, 5577]\n",
      "Boost: 21; Stalemate: [5278, 5542]\n",
      "Boost: 22; Stalemate: [6381, 5517]\n",
      "Boost: 23; Stalemate: [6412, 5624]\n",
      "Boost: 24; Stalemate: [6441, 5624]\n",
      "Boost: 25; Stalemate: [6452, 5621]\n",
      "Boost: 26; Stalemate: [6474, 5216]\n",
      "Boost: 27; Stalemate: [6488, 4930]\n",
      "Boost: 28; Stalemate: [6497, 4539]\n",
      "Boost: 29; Stalemate: [6506, 4441]\n",
      "Boost: 30; Stalemate: [6529, 4067]\n",
      "Boost: 31; Stalemate: [6540, 3258]\n",
      "Boost: 32; Stalemate: [6553, 2904]\n",
      "Boost: 33; Stalemate: [6569, 2471]\n",
      "Boost: 34; Stalemate: [6586, 1775]\n",
      "Boost: 35; Winner: Immune System with 13005 units.\n"
     ]
    }
   ],
   "source": [
    "import re\n",
    "from copy import deepcopy\n",
    "\n",
    "class Group():\n",
    "    def __init__( self, *args ):\n",
    "        self.units = args[ 0 ] \n",
    "        self.hit_points = args[ 1 ]\n",
    "        self.nominal_damage = args[ 2 ]\n",
    "        self.initiative = args[ 3 ]\n",
    "        self.attack_type = args[ 4 ]\n",
    "        self.immune_to = args[ 5 ]\n",
    "        self.weak_to = args[ 6 ]\n",
    "    def set_boost( self, boost ):\n",
    "        self.damage = self.nominal_damage + boost\n",
    "    def effective_power( self ):\n",
    "        return self.units * self.damage\n",
    "    def calculate_damage_to( self, target ):\n",
    "        if self.attack_type in target.immune_to:\n",
    "            return 0\n",
    "        elif self.attack_type in target.weak_to:\n",
    "            return 2 * self.effective_power()\n",
    "        else:\n",
    "            return self.effective_power()\n",
    "    def attack( self ):\n",
    "        if self.target:\n",
    "            self.target.units -= self.calculate_damage_to( self.target ) // self.target.hit_points\n",
    "            if self.target.units < 0:\n",
    "                self.target.units = 0\n",
    "\n",
    "class Army( list ):\n",
    "    def __init__( self, team ):\n",
    "        self.team = team\n",
    "        super().__init__()\n",
    "    def prepare( self, boost = 0 ):\n",
    "        for group in self:\n",
    "            group.set_boost( boost )\n",
    "        return self\n",
    "    def target_selection( self, army ):\n",
    "        army = sorted( army, key = lambda group: group.initiative )\n",
    "        army.sort( key = lambda group: group.effective_power() )\n",
    "        self.sort( key = lambda group: group.initiative )\n",
    "        self.sort( key = lambda group: group.effective_power() )\n",
    "        self.reverse()\n",
    "        for group in self:\n",
    "            group.target = sorted(\n",
    "                army, key = lambda g: group.calculate_damage_to( g )\n",
    "            ).pop() if army else None\n",
    "            if group.target and group.calculate_damage_to( group.target ):\n",
    "                army.remove( group.target )\n",
    "    def remove_the_dead( self ):\n",
    "        for group in self.copy():\n",
    "            if group.units <= 0:\n",
    "                self.remove( group )\n",
    "    \n",
    "class Theater():\n",
    "    def __init__( self, army1, army2, boost = 0 ):\n",
    "        self.army1 = army1.prepare( boost if army1.team == 'Immune System' else 0 )\n",
    "        self.army2 = army2.prepare( boost if army2.team == 'Immune System' else 0 )\n",
    "        done = [ 0, 0 ]\n",
    "        hold = [ sum( [ g.units for g in army] ) for army in [ self.army1, self.army2 ] ]\n",
    "        while sum( hold ) != sum( done ):\n",
    "            done = hold\n",
    "            self.fight()\n",
    "            hold = [ sum( [ g.units for g in army] ) for army in [ self.army1, self.army2 ] ]\n",
    "        if self.army1 and self.army2:\n",
    "            print( 'Boost: {}; Stalemate: {}'.format( boost, done ) )\n",
    "        else:\n",
    "            print( 'Boost: {}; Winner: {} with {} units.'.format(\n",
    "                boost, self.army1.team if self.army1 else self.army2.team, max( done ) ) )\n",
    "    def fight( self ):\n",
    "        self.army1.target_selection( self.army2 )\n",
    "        self.army2.target_selection( self.army1 )\n",
    "        for group in sorted( self.army1 + self.army2, key = lambda g: g.initiative, reverse = True ):\n",
    "            group.attack()\n",
    "        self.army1.remove_the_dead()\n",
    "        self.army2.remove_the_dead()\n",
    "        \n",
    "f = open( 'input_day_24')\n",
    "team = None\n",
    "armies = list()\n",
    "for line in f:\n",
    "    if ':' in line:\n",
    "        team = line.strip( ':' ).strip( ':\\n' )\n",
    "        army = Army( team )\n",
    "        armies.append( army )\n",
    "    units, hit_points, damage, initiative, attack_type, immune_to, weak_to = 7 * [ list() ]\n",
    "    if 'units' in line:\n",
    "        units, hit_points, damage, initiative = [ int( v ) for v in re.findall( r'\\d+', line ) ]\n",
    "        attack_type = line.split(' damage')[0].split()[-1]\n",
    "    if 'immune to' in line:\n",
    "        immune_to = line.split('immune to ')[1].split(';')[0].split(')')[0].split(', ')\n",
    "    if 'weak to' in line:\n",
    "        weak_to = line.split('weak to ')[1].split(';')[0].split(')')[0].split(', ')\n",
    "    if units:\n",
    "        army.append( Group( units, hit_points, damage, initiative, attack_type, immune_to, weak_to ) )\n",
    "\n",
    "for i in range( 36 ):\n",
    "    Theater( *[ deepcopy( a ) for a in armies], i );"
   ]
  },
  {
   "cell_type": "markdown",
   "metadata": {},
   "source": [
    "## Day 25"
   ]
  },
  {
   "cell_type": "code",
   "execution_count": 49,
   "metadata": {},
   "outputs": [
    {
     "name": "stdout",
     "output_type": "stream",
     "text": [
      "working...\n",
      "working...\n",
      "working...\n"
     ]
    },
    {
     "data": {
      "text/plain": [
       "305"
      ]
     },
     "execution_count": 49,
     "metadata": {},
     "output_type": "execute_result"
    }
   ],
   "source": [
    "f = open( 'input_day_25')\n",
    "class Point( tuple ):\n",
    "    def distance( self, other ):\n",
    "        return sum( [ abs( a - b ) for a, b in zip( self, other ) ] )\n",
    "\n",
    "constelations = [ [ Point( int( v ) for v in l.split( ',' ) ), ] for l in f ]\n",
    "len_constelations = None\n",
    "while len_constelations != len( constelations ):\n",
    "    print( 'working...' )\n",
    "    len_constelations = len( constelations )\n",
    "    for c1 in constelations:\n",
    "        for c2 in [ c for c in constelations if c != c1 ]:\n",
    "            if any( [p1.distance( p2 )<= 3 for p1 in c1 for p2 in c2 ] ):\n",
    "                c1.extend( c2 )\n",
    "                c2.clear()\n",
    "    constelations = [ c for c in constelations if c ]\n",
    "len( constelations )"
   ]
  }
 ],
 "metadata": {
  "kernelspec": {
   "display_name": "Python 3",
   "language": "python",
   "name": "python3"
  },
  "language_info": {
   "codemirror_mode": {
    "name": "ipython",
    "version": 3
   },
   "file_extension": ".py",
   "mimetype": "text/x-python",
   "name": "python",
   "nbconvert_exporter": "python",
   "pygments_lexer": "ipython3",
   "version": "3.6.8"
  }
 },
 "nbformat": 4,
 "nbformat_minor": 2
}
